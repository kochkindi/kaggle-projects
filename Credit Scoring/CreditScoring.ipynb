{
 "cells": [
  {
   "cell_type": "markdown",
   "metadata": {},
   "source": [
    "**Кредитный скоринг** позволяет спрогнозировать вероятность невозврата кредита.  Используя данные о клиенте, работник банка может решить, выдавать ли клиенту кредит, и если да, то под какой процент. При этом используемый в кредитном скоринге алгоритм позволяет предсказывать значения непрерывной зависимой переменной на интервале от 0 до 1. Банки самостоятельно определяют для себя значения, при которых они принимают решение об отказе в кредите."
   ]
  },
  {
   "cell_type": "markdown",
   "metadata": {},
   "source": [
    "# Импорт библиотек:"
   ]
  },
  {
   "cell_type": "code",
   "execution_count": null,
   "metadata": {
    "execution": {
     "iopub.execute_input": "2021-10-24T15:23:21.344759Z",
     "iopub.status.busy": "2021-10-24T15:23:21.344047Z",
     "iopub.status.idle": "2021-10-24T15:23:31.600548Z",
     "shell.execute_reply": "2021-10-24T15:23:31.599677Z",
     "shell.execute_reply.started": "2021-10-24T15:23:21.344665Z"
    }
   },
   "outputs": [],
   "source": [
    "import os\n",
    "import sklearn\n",
    "import pandas as pd\n",
    "import pandas_profiling\n",
    "import numpy as np\n",
    "import matplotlib.pyplot as plt\n",
    "import seaborn as sns\n",
    "import lightgbm\n",
    "import catboost as cb\n",
    "import xgboost as xgb\n",
    "import optuna\n",
    "from datetime import datetime\n",
    "import warnings\n",
    "\n",
    "from sklearn.model_selection import GridSearchCV\n",
    "from sklearn.model_selection import StratifiedKFold, StratifiedShuffleSplit\n",
    "from sklearn.pipeline import Pipeline\n",
    "from sklearn.preprocessing import LabelEncoder, OneHotEncoder\n",
    "from sklearn.preprocessing import StandardScaler, RobustScaler\n",
    "from sklearn.feature_selection import f_classif, mutual_info_classif\n",
    "\n",
    "from sklearn.linear_model import LogisticRegression, LogisticRegressionCV\n",
    "from sklearn.ensemble import RandomForestClassifier, VotingClassifier\n",
    "from sklearn.ensemble import StackingRegressor\n",
    "from lightgbm import LGBMClassifier\n",
    "from catboost import CatBoostClassifier\n",
    "from xgboost import XGBClassifier\n",
    "\n",
    "from sklearn.metrics import f1_score, accuracy_score, roc_curve, roc_auc_score,plot_roc_curve\n",
    "from sklearn.metrics import classification_report, precision_score, recall_score, plot_precision_recall_curve\n",
    "from sklearn.metrics import confusion_matrix\n",
    "from imblearn.over_sampling import RandomOverSampler\n",
    "from imblearn.under_sampling import RandomUnderSampler\n",
    "from sklearn.model_selection import train_test_split\n",
    "import statsmodels.api as sm\n",
    "\n",
    "\n",
    "\n",
    "from sklearn.model_selection import cross_val_score\n",
    "import eli5\n",
    "from eli5.sklearn import PermutationImportance\n",
    "from sklearn.inspection import permutation_importance\n",
    "\n",
    "warnings.filterwarnings(\"ignore\")\n",
    "\n",
    "%matplotlib inline"
   ]
  },
  {
   "cell_type": "code",
   "execution_count": null,
   "metadata": {
    "execution": {
     "iopub.execute_input": "2021-10-24T15:23:31.60543Z",
     "iopub.status.busy": "2021-10-24T15:23:31.604767Z",
     "iopub.status.idle": "2021-10-24T15:23:35.749531Z",
     "shell.execute_reply": "2021-10-24T15:23:35.748425Z",
     "shell.execute_reply.started": "2021-10-24T15:23:31.605396Z"
    }
   },
   "outputs": [],
   "source": [
    "!pip freeze > requirements.txt\n",
    "\n",
    "RANDOM_SEED = 42"
   ]
  },
  {
   "cell_type": "markdown",
   "metadata": {},
   "source": [
    "# Загрузка данных:"
   ]
  },
  {
   "cell_type": "code",
   "execution_count": null,
   "metadata": {
    "execution": {
     "iopub.execute_input": "2021-10-24T15:23:35.751136Z",
     "iopub.status.busy": "2021-10-24T15:23:35.750878Z",
     "iopub.status.idle": "2021-10-24T15:23:36.08444Z",
     "shell.execute_reply": "2021-10-24T15:23:36.083826Z",
     "shell.execute_reply.started": "2021-10-24T15:23:35.751101Z"
    }
   },
   "outputs": [],
   "source": [
    "data_directory = '/kaggle/input/sf-dst-scoring/'\n",
    "df_train = pd.read_csv(data_directory+'train.csv')\n",
    "df_test = pd.read_csv(data_directory+'test.csv')\n",
    "sample_submission = pd.read_csv(data_directory+'/sample_submission.csv')"
   ]
  },
  {
   "cell_type": "code",
   "execution_count": null,
   "metadata": {
    "execution": {
     "iopub.execute_input": "2021-10-24T15:23:36.086189Z",
     "iopub.status.busy": "2021-10-24T15:23:36.085502Z",
     "iopub.status.idle": "2021-10-24T15:23:36.170835Z",
     "shell.execute_reply": "2021-10-24T15:23:36.169975Z",
     "shell.execute_reply.started": "2021-10-24T15:23:36.086154Z"
    }
   },
   "outputs": [],
   "source": [
    "df_train['sample'] = 1  # train\n",
    "df_test['sample'] = 0  # test\n",
    "\n",
    "df = df_test.append(df_train, sort=False).reset_index(\n",
    "    drop=True)  # комбинируем признаки для корректной работы"
   ]
  },
  {
   "cell_type": "code",
   "execution_count": null,
   "metadata": {
    "execution": {
     "iopub.execute_input": "2021-10-24T15:23:36.173446Z",
     "iopub.status.busy": "2021-10-24T15:23:36.173208Z",
     "iopub.status.idle": "2021-10-24T15:23:36.288003Z",
     "shell.execute_reply": "2021-10-24T15:23:36.287106Z",
     "shell.execute_reply.started": "2021-10-24T15:23:36.173417Z"
    }
   },
   "outputs": [],
   "source": [
    "df.info()\n",
    "print()\n",
    "display(df.sample(3))"
   ]
  },
  {
   "cell_type": "markdown",
   "metadata": {},
   "source": [
    "# Осмотр данных:"
   ]
  },
  {
   "cell_type": "code",
   "execution_count": null,
   "metadata": {
    "execution": {
     "iopub.execute_input": "2021-10-24T15:23:36.289328Z",
     "iopub.status.busy": "2021-10-24T15:23:36.289127Z",
     "iopub.status.idle": "2021-10-24T15:23:36.295683Z",
     "shell.execute_reply": "2021-10-24T15:23:36.295012Z",
     "shell.execute_reply.started": "2021-10-24T15:23:36.289302Z"
    }
   },
   "outputs": [],
   "source": [
    "df_train.columns"
   ]
  },
  {
   "cell_type": "markdown",
   "metadata": {},
   "source": [
    "**Признаки:**\n",
    "\n",
    "`client_id` - идентификатор клиента\n",
    "\n",
    "`education` - уровень образования\n",
    "\n",
    "`sex` - пол заемщика\n",
    "\n",
    "`age` - возраст заемщика\n",
    "\n",
    "`car` - флаг наличия автомобиля\n",
    "\n",
    "`car_type` - флаг автомобиля иномарки\n",
    "\n",
    "`decline_app_cnt` - количество отказанных прошлых заявок\n",
    "\n",
    "`good_work` - флаг наличия “хорошей” работы\n",
    "\n",
    "`bki_request_cnt` - количество запросов в БКИ\n",
    "\n",
    "`home_address` - категоризатор домашнего адреса\n",
    "\n",
    "`work_address` - категоризатор рабочего адреса\n",
    "\n",
    "`income` - доход заемщика\n",
    "\n",
    "`foreign_passport` - наличие загранпаспорта\n",
    "\n",
    "`sna` - связь заемщика с клиентами банка\n",
    "\n",
    "`first_time` - давность наличия информации о заемщике\n",
    "\n",
    "`score_bki` - скоринговый балл по данным из БКИ\n",
    "\n",
    "`region_rating` - рейтинг региона\n",
    "\n",
    "`app_date` - дата подачи заявки\n",
    "\n",
    "`default` - флаг дефолта по кредиту"
   ]
  },
  {
   "cell_type": "code",
   "execution_count": null,
   "metadata": {
    "execution": {
     "iopub.execute_input": "2021-10-24T15:23:36.297209Z",
     "iopub.status.busy": "2021-10-24T15:23:36.296874Z",
     "iopub.status.idle": "2021-10-24T15:23:36.638026Z",
     "shell.execute_reply": "2021-10-24T15:23:36.637226Z",
     "shell.execute_reply.started": "2021-10-24T15:23:36.297179Z"
    }
   },
   "outputs": [],
   "source": [
    "# Узнаем типы данных наших признаков:\n",
    "\n",
    "df_agg = df.agg({'nunique', lambda s: s.unique()[:10]})\\\n",
    "    .append(pd.Series(df.isnull().sum(), name='null'))\\\n",
    "    .append(pd.Series(df.dtypes, name='dtype'))\\\n",
    "    .transpose()\n",
    "df_agg"
   ]
  },
  {
   "cell_type": "code",
   "execution_count": null,
   "metadata": {
    "execution": {
     "iopub.execute_input": "2021-10-24T15:23:36.63977Z",
     "iopub.status.busy": "2021-10-24T15:23:36.639445Z",
     "iopub.status.idle": "2021-10-24T15:23:36.725551Z",
     "shell.execute_reply": "2021-10-24T15:23:36.724631Z",
     "shell.execute_reply.started": "2021-10-24T15:23:36.639729Z"
    }
   },
   "outputs": [],
   "source": [
    "df.isna().sum() # Можем видеть пропуски в признаке education."
   ]
  },
  {
   "cell_type": "code",
   "execution_count": null,
   "metadata": {
    "execution": {
     "iopub.execute_input": "2021-10-24T15:23:36.727365Z",
     "iopub.status.busy": "2021-10-24T15:23:36.726771Z",
     "iopub.status.idle": "2021-10-24T15:23:37.00766Z",
     "shell.execute_reply": "2021-10-24T15:23:37.006675Z",
     "shell.execute_reply.started": "2021-10-24T15:23:36.727328Z"
    }
   },
   "outputs": [],
   "source": [
    "#Каких клиентов у банка боььше: с дефолтом или без? 0 - нет, 1 - да.\n",
    "\n",
    "df.default.hist()\n",
    "print()\n",
    "print(df.default.value_counts())"
   ]
  },
  {
   "cell_type": "code",
   "execution_count": null,
   "metadata": {
    "execution": {
     "iopub.execute_input": "2021-10-24T15:23:37.009539Z",
     "iopub.status.busy": "2021-10-24T15:23:37.009317Z",
     "iopub.status.idle": "2021-10-24T15:23:37.048738Z",
     "shell.execute_reply": "2021-10-24T15:23:37.047683Z",
     "shell.execute_reply.started": "2021-10-24T15:23:37.009513Z"
    }
   },
   "outputs": [],
   "source": [
    "# Рассмотрим признак education:\n",
    "\n",
    "print(df['education'].value_counts())\n",
    "print()\n",
    "print('Распределение пропусков: ',df['education'].isna().value_counts())"
   ]
  },
  {
   "cell_type": "code",
   "execution_count": null,
   "metadata": {
    "execution": {
     "iopub.execute_input": "2021-10-24T15:23:37.050481Z",
     "iopub.status.busy": "2021-10-24T15:23:37.050169Z",
     "iopub.status.idle": "2021-10-24T15:23:37.09024Z",
     "shell.execute_reply": "2021-10-24T15:23:37.089627Z",
     "shell.execute_reply.started": "2021-10-24T15:23:37.050438Z"
    }
   },
   "outputs": [],
   "source": [
    "# Заменим пропуски в education:\n",
    "\n",
    "df.education = df.education.fillna(\"SCH\")\n",
    "\n",
    "df['education'].value_counts()"
   ]
  },
  {
   "cell_type": "code",
   "execution_count": null,
   "metadata": {
    "execution": {
     "iopub.execute_input": "2021-10-24T15:23:37.09179Z",
     "iopub.status.busy": "2021-10-24T15:23:37.091394Z",
     "iopub.status.idle": "2021-10-24T15:23:37.099324Z",
     "shell.execute_reply": "2021-10-24T15:23:37.098547Z",
     "shell.execute_reply.started": "2021-10-24T15:23:37.09176Z"
    }
   },
   "outputs": [],
   "source": [
    "df['good_work'].value_counts() # Посмотрим на новый признак Good work."
   ]
  },
  {
   "cell_type": "markdown",
   "metadata": {},
   "source": [
    "# Вывод по EDA:"
   ]
  },
  {
   "cell_type": "markdown",
   "metadata": {},
   "source": [
    "- В наборе даных 19 признаков.\n",
    "- Всего представлено 110 148 клиентов.\n",
    "- Количество пропусков 0.04%, только в признаке education. \n",
    "- Дубликатов нет.\n",
    "- `client_id` не имеет повторяющихся значений, все значения уникальные, что ставит под сомнения его значимость.\n",
    "- `app_date` только 120 вариантов признака (0.1%). Большинство данных за период февраль-апрель 2014 года.\n",
    "- `education` содержит 5 категорий:\n",
    "    -SCH (52%) - School;\n",
    "    -GRD (31%) - Graduated (Master degree);\n",
    "    -UGR (13%) - UnderGraduated (Bachelor degree);\n",
    "    -PGR (1.7%) - PostGraduated;\n",
    "    -ACD (0.3%) - Academic Degree.\n",
    "    -No education (0.1%)\n",
    "- `sex` содержит 2 вариации признака:\n",
    "    -Female (56%);\n",
    "    -Male (44%);\n",
    "- `age` представлен конкретными значениями со смещением влево: \n",
    "    -- Minimum 21 \n",
    "    -- median 37 \n",
    "    -- Mean 39.2 \n",
    "    -- Maximum 72 \n",
    "    -- Interquartile range (IQR) 18\n",
    "- `car` бинарный признак, 67% заемщиков не имеют автомобиля.\n",
    "- `car_type` бинарный признак, показывающий отечественный или иностранный автомобиль у заемщика. 81% заемщиков имеют отечественный автомобиль. \n",
    "- `decline_app_cnt` cодержит конкретные значения со смещением влево. Большинство значений (83%) нулевые. Преобладающее большинство наблюдений в промежутке от 0 до 6.\n",
    "- `good_work` Mбольшинство заемщиков не имеют хорошей работы (83%).\n",
    "- `score_bki` 93% значений уникальны, распределение нормальное, присутствуют отрицательные значения.\n",
    "- `bki_request_cnt` натуральные числа, которые варбируются от 0 до 53 с медианой 1. Большинство значений в промежутке от 0 до 8.\n",
    "- `region_rating` варбируются между 20 и 80. Категориальный признак. Самое часто встречающееся значение 50 (37%).\n",
    "- `home_address`, work_address категориальные признаки с 3 вариациями.\n",
    "- `income` большой разброс значений от 1000 до 1000000; можно попробовать либо превратить в категориальный признак, либо прологарифмировать.\n",
    "- `sna / first_time` категориальные признаки с 4 вариациями значений.\n",
    "- `foreign_passport` бинарный признак, 67% заемщиков имеют заграничный паспорт.\n",
    "- `default` целевой признак. Бинарный признак с подавляющим большинством тех, кто возвращает кредит без проблем. Выборка несбалансированная, при моделировании нужно будет попробовать undersampling."
   ]
  },
  {
   "cell_type": "code",
   "execution_count": null,
   "metadata": {
    "execution": {
     "iopub.execute_input": "2021-10-24T15:23:37.100992Z",
     "iopub.status.busy": "2021-10-24T15:23:37.10034Z",
     "iopub.status.idle": "2021-10-24T15:23:37.108545Z",
     "shell.execute_reply": "2021-10-24T15:23:37.107673Z",
     "shell.execute_reply.started": "2021-10-24T15:23:37.100946Z"
    }
   },
   "outputs": [],
   "source": [
    "# Разделим наши признаки на числовые, категориальные и бинарные.\n",
    "\n",
    "num_cols = [\n",
    "    'age', \n",
    "    'decline_app_cnt', \n",
    "    'score_bki',\n",
    "    'income', \n",
    "    'bki_request_cnt'\n",
    "]\n",
    "\n",
    "cat_cols = [\n",
    "    'education', \n",
    "    'work_address', \n",
    "    'home_address', \n",
    "    'region_rating' , \n",
    "    'sna', \n",
    "    'first_time'\n",
    "]\n",
    "\n",
    "bin_cols = [\n",
    "    'sex', \n",
    "    'car', \n",
    "    'car_type', \n",
    "    'good_work', \n",
    "    'foreign_passport'\n",
    "]"
   ]
  },
  {
   "cell_type": "markdown",
   "metadata": {},
   "source": [
    "# Обзор колличественных признаков:"
   ]
  },
  {
   "cell_type": "code",
   "execution_count": null,
   "metadata": {
    "execution": {
     "iopub.execute_input": "2021-10-24T15:23:37.114035Z",
     "iopub.status.busy": "2021-10-24T15:23:37.113402Z",
     "iopub.status.idle": "2021-10-24T15:23:43.239192Z",
     "shell.execute_reply": "2021-10-24T15:23:43.238394Z",
     "shell.execute_reply.started": "2021-10-24T15:23:37.113998Z"
    }
   },
   "outputs": [],
   "source": [
    "# Посмотрим на распределение количественных признаков\n",
    "for i in num_cols:\n",
    "    plt.figure()\n",
    "    sns.displot(df[i][df[i] > 0].dropna(), kde = False, rug=False)\n",
    "    plt.title(f'Distribution of {i}')\n",
    "    plt.show()"
   ]
  },
  {
   "cell_type": "code",
   "execution_count": null,
   "metadata": {
    "execution": {
     "iopub.execute_input": "2021-10-24T15:23:43.241112Z",
     "iopub.status.busy": "2021-10-24T15:23:43.240555Z",
     "iopub.status.idle": "2021-10-24T15:23:44.358533Z",
     "shell.execute_reply": "2021-10-24T15:23:44.35751Z",
     "shell.execute_reply.started": "2021-10-24T15:23:43.241066Z"
    }
   },
   "outputs": [],
   "source": [
    "def get_boxplot(df, col):\n",
    "    fig, axes = plt.subplots(figsize = (14, 4))\n",
    "    sns.boxplot(x='default', y=col, data=df[df['sample']==1], ax=axes)\n",
    "    axes.set_title('Boxplot for ' + col)\n",
    "    plt.show()\n",
    "\n",
    "# Посмотрим на выбросы и распределение целевой переменной между количественными признаками\n",
    "for col in num_cols:\n",
    "    get_boxplot(df, col)"
   ]
  },
  {
   "cell_type": "code",
   "execution_count": null,
   "metadata": {
    "execution": {
     "iopub.execute_input": "2021-10-24T15:23:44.36022Z",
     "iopub.status.busy": "2021-10-24T15:23:44.359983Z",
     "iopub.status.idle": "2021-10-24T15:23:44.638139Z",
     "shell.execute_reply": "2021-10-24T15:23:44.637451Z",
     "shell.execute_reply.started": "2021-10-24T15:23:44.360184Z"
    }
   },
   "outputs": [],
   "source": [
    "df.score_bki.hist()"
   ]
  },
  {
   "cell_type": "markdown",
   "metadata": {},
   "source": [
    "Можно заметить, что только признак `score_bki` имеет почти нормальное распределение. Распределение по возрасту смещено влево. У данных есть выбросы. У нас есть несколько вариантов: 1) Применить функцию логарифма к данным, 2) преобразовать некоторые данные в категориальные признаки, применить комбинацию логарифма и преобразовать в категориальные признаки."
   ]
  },
  {
   "cell_type": "code",
   "execution_count": null,
   "metadata": {
    "execution": {
     "iopub.execute_input": "2021-10-24T15:23:44.639925Z",
     "iopub.status.busy": "2021-10-24T15:23:44.63945Z",
     "iopub.status.idle": "2021-10-24T15:23:44.869559Z",
     "shell.execute_reply": "2021-10-24T15:23:44.868704Z",
     "shell.execute_reply.started": "2021-10-24T15:23:44.639891Z"
    }
   },
   "outputs": [],
   "source": [
    "# Посмотрим статистическую значимость колличественных признаков:\n",
    "\n",
    "imp_num = pd.Series(f_classif(df_train[num_cols], df_train['default'])[\n",
    "                    0], index=[num_cols])\n",
    "imp_num.sort_values(inplace=True)\n",
    "imp_num.plot(kind='barh')"
   ]
  },
  {
   "cell_type": "code",
   "execution_count": null,
   "metadata": {
    "execution": {
     "iopub.execute_input": "2021-10-24T15:23:44.871194Z",
     "iopub.status.busy": "2021-10-24T15:23:44.870954Z",
     "iopub.status.idle": "2021-10-24T15:23:45.257418Z",
     "shell.execute_reply": "2021-10-24T15:23:45.256453Z",
     "shell.execute_reply.started": "2021-10-24T15:23:44.871165Z"
    }
   },
   "outputs": [],
   "source": [
    "def corr_matrix(data, det=True, pltx=10, plty=10):\n",
    "    '''Funcion is called for making correlation matrix'''\n",
    "    \n",
    "    X = data.corr()\n",
    "    if det:\n",
    "        \n",
    "        evals,evec = np.linalg.eig(X)\n",
    "        ev_product = np.prod(evals)\n",
    "    \n",
    "        print(f'Rank of Matrix: {np.linalg.matrix_rank(X)}')\n",
    "        print(f'Determinant of matrix: {np.round(ev_product,4)}')\n",
    "        print(f'Shape of matrix: {np.shape(X)}')\n",
    "    \n",
    "    plt.figure(figsize=(pltx,plty))\n",
    "    sns.heatmap(X,vmin=0,vmax=.9,annot=True,square=True)\n",
    "    plt.show()\n",
    "\n",
    "corr_matrix(df_train[num_cols])"
   ]
  },
  {
   "cell_type": "markdown",
   "metadata": {},
   "source": [
    "Наиболее статистически значимыми переменными являются score_bki, reduce_app_cnt. Между функциями нет сильной корреляции. Это подтверждается рангом матрицы."
   ]
  },
  {
   "cell_type": "markdown",
   "metadata": {},
   "source": [
    "# Работа с дата-признаками:"
   ]
  },
  {
   "cell_type": "code",
   "execution_count": null,
   "metadata": {
    "execution": {
     "iopub.execute_input": "2021-10-24T15:23:45.259689Z",
     "iopub.status.busy": "2021-10-24T15:23:45.259045Z",
     "iopub.status.idle": "2021-10-24T15:23:48.118742Z",
     "shell.execute_reply": "2021-10-24T15:23:48.117856Z",
     "shell.execute_reply.started": "2021-10-24T15:23:45.259654Z"
    }
   },
   "outputs": [],
   "source": [
    "df_train['app_date'] = pd.to_datetime(\n",
    "    df_train['app_date'])  # Конвертируем нашу дату в формат datetime.\n",
    "\n",
    "# Функция возвращает порядкой день в году:\n",
    "def get_days_count(x):  \n",
    "    day = ((x.month-1) * 30)+x.day\n",
    "    return day\n",
    "\n",
    "df_train['days_numb'] = df_train['app_date'].apply(\n",
    "    lambda x: (get_days_count(x)))  \n",
    "\n",
    "# Функция, которая возвращает количество дней между датой заказа и сегодняшней датой.\n",
    "def get_days_beetwen(x):\n",
    "    curr_date = datetime.today()\n",
    "    count = (curr_date-x).days\n",
    "    return count\n",
    "\n",
    "df_train['days_beetwen'] = df_train['app_date'].apply(\n",
    "    lambda x: (get_days_beetwen(x)\n",
    "               )) \n",
    "\n",
    "# Функция возвращает месяц:\n",
    "def month(x):\n",
    "    month = x.month\n",
    "    return month\n",
    "\n",
    "df_train['month'] = df_train['app_date'].apply(lambda x: (month(x)))\n",
    "\n"
   ]
  },
  {
   "cell_type": "code",
   "execution_count": null,
   "metadata": {
    "execution": {
     "iopub.execute_input": "2021-10-24T15:23:48.120393Z",
     "iopub.status.busy": "2021-10-24T15:23:48.120052Z",
     "iopub.status.idle": "2021-10-24T15:23:48.140071Z",
     "shell.execute_reply": "2021-10-24T15:23:48.139374Z",
     "shell.execute_reply.started": "2021-10-24T15:23:48.120351Z"
    }
   },
   "outputs": [],
   "source": [
    "# Удалим признак app_date\n",
    "df_train = df_train.drop('app_date', axis=1)"
   ]
  },
  {
   "cell_type": "code",
   "execution_count": null,
   "metadata": {
    "execution": {
     "iopub.execute_input": "2021-10-24T15:23:48.142055Z",
     "iopub.status.busy": "2021-10-24T15:23:48.141253Z",
     "iopub.status.idle": "2021-10-24T15:23:48.150833Z",
     "shell.execute_reply": "2021-10-24T15:23:48.149968Z",
     "shell.execute_reply.started": "2021-10-24T15:23:48.142013Z"
    }
   },
   "outputs": [],
   "source": [
    "df_train['month'].value_counts() #В нашем датасете только 4 месяца, что довольно немного."
   ]
  },
  {
   "cell_type": "markdown",
   "metadata": {},
   "source": [
    "# Обзор бинарных признаков:"
   ]
  },
  {
   "cell_type": "code",
   "execution_count": null,
   "metadata": {
    "execution": {
     "iopub.execute_input": "2021-10-24T15:23:48.152357Z",
     "iopub.status.busy": "2021-10-24T15:23:48.15183Z",
     "iopub.status.idle": "2021-10-24T15:23:49.187149Z",
     "shell.execute_reply": "2021-10-24T15:23:49.186553Z",
     "shell.execute_reply.started": "2021-10-24T15:23:48.152324Z"
    }
   },
   "outputs": [],
   "source": [
    "plt.figure(figsize=[30, 30])\n",
    "i = 1\n",
    "\n",
    "for k in bin_cols:\n",
    "    plt.subplot(4, 3, i)\n",
    "    sns.barplot(x=k,\n",
    "                y='proportion',\n",
    "                hue='default',\n",
    "                data=df_train[[k, 'default']].value_counts(\n",
    "                    normalize=True).rename('proportion').reset_index())\n",
    "    \n",
    "    plt.title('Binary Feature Name\\n' + k, fontsize=15)\n",
    "    i += 1\n",
    "plt.tight_layout()\n",
    "plt.show()"
   ]
  },
  {
   "cell_type": "markdown",
   "metadata": {},
   "source": [
    "- Заемщики-женщины имеют тенденцию к дефолту несколько чаще, чем мужчины.\n",
    "\n",
    "- Наличие автомобиля и в частности иностранной марки автомобиля делает заемщиков более надежными.\n",
    "\n",
    "- Люди, имеющие хорошую работу и заграничный паспорт, чаще возвращают ссуды, чем те, у кого плохая работа."
   ]
  },
  {
   "cell_type": "code",
   "execution_count": null,
   "metadata": {
    "execution": {
     "iopub.execute_input": "2021-10-24T15:23:49.189278Z",
     "iopub.status.busy": "2021-10-24T15:23:49.18871Z",
     "iopub.status.idle": "2021-10-24T15:23:49.301797Z",
     "shell.execute_reply": "2021-10-24T15:23:49.300864Z",
     "shell.execute_reply.started": "2021-10-24T15:23:49.189238Z"
    }
   },
   "outputs": [],
   "source": [
    "# Закодируем наши признаки:\n",
    "\n",
    "mapp = {}\n",
    "label_encoder = LabelEncoder()\n",
    "for col in bin_cols:\n",
    "    df_train[col] = label_encoder.fit_transform(df_train[col])\n",
    "    mapp[col] = dict(enumerate(label_encoder.classes_))\n",
    "    \n",
    "print(mapp)\n"
   ]
  },
  {
   "cell_type": "code",
   "execution_count": null,
   "metadata": {
    "execution": {
     "iopub.execute_input": "2021-10-24T15:23:49.303424Z",
     "iopub.status.busy": "2021-10-24T15:23:49.30321Z",
     "iopub.status.idle": "2021-10-24T15:23:49.573095Z",
     "shell.execute_reply": "2021-10-24T15:23:49.571905Z",
     "shell.execute_reply.started": "2021-10-24T15:23:49.303398Z"
    }
   },
   "outputs": [],
   "source": [
    "# Проверим статистическую значимость:\n",
    "\n",
    "imp_bol = pd.Series(mutual_info_classif(df_train[bin_cols], df_train['default'],\n",
    "                                        discrete_features=True), index=[bin_cols])\n",
    "imp_bol.sort_values(inplace=True)\n",
    "imp_bol.plot(kind='barh')"
   ]
  },
  {
   "cell_type": "code",
   "execution_count": null,
   "metadata": {
    "execution": {
     "iopub.execute_input": "2021-10-24T15:23:49.575193Z",
     "iopub.status.busy": "2021-10-24T15:23:49.574421Z",
     "iopub.status.idle": "2021-10-24T15:23:49.937676Z",
     "shell.execute_reply": "2021-10-24T15:23:49.936682Z",
     "shell.execute_reply.started": "2021-10-24T15:23:49.575147Z"
    }
   },
   "outputs": [],
   "source": [
    "corr_matrix(df_train[bin_cols])"
   ]
  },
  {
   "cell_type": "markdown",
   "metadata": {},
   "source": [
    "Возможно, стоит объединить признаки `car_type` и `car`."
   ]
  },
  {
   "cell_type": "markdown",
   "metadata": {
    "execution": {
     "iopub.execute_input": "2021-10-20T18:37:36.986259Z",
     "iopub.status.busy": "2021-10-20T18:37:36.985492Z",
     "iopub.status.idle": "2021-10-20T18:37:36.990045Z",
     "shell.execute_reply": "2021-10-20T18:37:36.989074Z",
     "shell.execute_reply.started": "2021-10-20T18:37:36.986211Z"
    }
   },
   "source": [
    "# Обзор категориальных признаков:"
   ]
  },
  {
   "cell_type": "code",
   "execution_count": null,
   "metadata": {
    "execution": {
     "iopub.execute_input": "2021-10-24T15:23:49.939581Z",
     "iopub.status.busy": "2021-10-24T15:23:49.939219Z",
     "iopub.status.idle": "2021-10-24T15:23:51.692721Z",
     "shell.execute_reply": "2021-10-24T15:23:51.691956Z",
     "shell.execute_reply.started": "2021-10-24T15:23:49.939538Z"
    }
   },
   "outputs": [],
   "source": [
    "# Посмотрим на распределение дефолтных состояний по различным признакам\n",
    "\n",
    "plt.figure(figsize=[20, 20])\n",
    "i = 1\n",
    "\n",
    "for k in cat_cols:\n",
    "    plt.subplot(4, 3, i)\n",
    "    sns.barplot(x=k, y='proportion', hue='default',  data=df_train[[\n",
    "                k, 'default']].value_counts(normalize=True).rename('proportion').reset_index())\n",
    "    plt.title('Binary Feature Name\\n' + k, fontsize=15)\n",
    "    i += 1\n",
    "plt.tight_layout()\n",
    "plt.show()"
   ]
  },
  {
   "cell_type": "markdown",
   "metadata": {},
   "source": [
    "- Люди с низким уровнем образования чаще не возвращают ссуды, чем люди с высоким уровнем образования, которые в свою очередь чаще занимают деньги.\n",
    "- Категория 4 в системе sna имеет более высокий процент несостоятельных заемщиков. И падает при понижении категории с 4 до 1.\n",
    "- Столбцы `first_time` также показывают падение доли несостоятельных заемщиков.\n",
    "- Домашний и рабочий адреса практически совпадают."
   ]
  },
  {
   "cell_type": "code",
   "execution_count": null,
   "metadata": {
    "execution": {
     "iopub.execute_input": "2021-10-24T15:23:51.695066Z",
     "iopub.status.busy": "2021-10-24T15:23:51.69446Z",
     "iopub.status.idle": "2021-10-24T15:23:51.903694Z",
     "shell.execute_reply": "2021-10-24T15:23:51.90306Z",
     "shell.execute_reply.started": "2021-10-24T15:23:51.69502Z"
    }
   },
   "outputs": [],
   "source": [
    "# Выведем зависимость дефолтных/недефолтных клиентов от уровня региона на boxplot графике:\n",
    "\n",
    "def get_boxplot(data, col1, col2, hue=None):\n",
    "    \n",
    "    fig, ax = plt.subplots(figsize=(7, 5))\n",
    "    sns.boxplot(x=col1, y=col2, hue=hue, data=data)\n",
    "    plt.xticks(rotation=45)\n",
    "    ax.set_title(f'Boxplot for {col1} and {col2}', fontsize=14)\n",
    "    plt.show()\n",
    "\n",
    "\n",
    "get_boxplot(df_train, 'default', 'region_rating')"
   ]
  },
  {
   "cell_type": "markdown",
   "metadata": {},
   "source": [
    "Чем выше рейтинг города - тем надежнее заемщик."
   ]
  },
  {
   "cell_type": "code",
   "execution_count": null,
   "metadata": {
    "execution": {
     "iopub.execute_input": "2021-10-24T15:23:51.905894Z",
     "iopub.status.busy": "2021-10-24T15:23:51.905289Z",
     "iopub.status.idle": "2021-10-24T15:23:52.466461Z",
     "shell.execute_reply": "2021-10-24T15:23:52.465521Z",
     "shell.execute_reply.started": "2021-10-24T15:23:51.905849Z"
    }
   },
   "outputs": [],
   "source": [
    "# Посмотрим на связь между уровнем образования и связью заемщиков.\n",
    "\n",
    "get_boxplot(df_train, 'education', 'sna', hue='default')"
   ]
  },
  {
   "cell_type": "markdown",
   "metadata": {
    "execution": {
     "iopub.execute_input": "2021-10-21T19:48:24.31628Z",
     "iopub.status.busy": "2021-10-21T19:48:24.315869Z",
     "iopub.status.idle": "2021-10-21T19:48:24.322173Z",
     "shell.execute_reply": "2021-10-21T19:48:24.320436Z",
     "shell.execute_reply.started": "2021-10-21T19:48:24.316238Z"
    }
   },
   "source": [
    "Связь есть, но объяснить ее довольно трудно."
   ]
  },
  {
   "cell_type": "code",
   "execution_count": null,
   "metadata": {
    "execution": {
     "iopub.execute_input": "2021-10-24T15:23:52.468646Z",
     "iopub.status.busy": "2021-10-24T15:23:52.468417Z",
     "iopub.status.idle": "2021-10-24T15:23:52.531488Z",
     "shell.execute_reply": "2021-10-24T15:23:52.530617Z",
     "shell.execute_reply.started": "2021-10-24T15:23:52.468605Z"
    }
   },
   "outputs": [],
   "source": [
    "# Заменим наши переменные:\n",
    "\n",
    "df_train.education = df_train.education.fillna(\"SCH\")\n",
    "\n",
    "mapp2 = {}\n",
    "label_encoder = LabelEncoder()\n",
    "for col in cat_cols:\n",
    "    df_train[col] = label_encoder.fit_transform(df_train[col])\n",
    "    mapp2[col] = dict(enumerate(label_encoder.classes_))\n",
    "    \n",
    "print(mapp2)"
   ]
  },
  {
   "cell_type": "code",
   "execution_count": null,
   "metadata": {
    "execution": {
     "iopub.execute_input": "2021-10-24T15:23:52.533282Z",
     "iopub.status.busy": "2021-10-24T15:23:52.532906Z",
     "iopub.status.idle": "2021-10-24T15:23:53.004335Z",
     "shell.execute_reply": "2021-10-24T15:23:53.00346Z",
     "shell.execute_reply.started": "2021-10-24T15:23:52.533237Z"
    }
   },
   "outputs": [],
   "source": [
    "corr_matrix(df_train[cat_cols])"
   ]
  },
  {
   "cell_type": "markdown",
   "metadata": {},
   "source": [
    "Можно заметить, что признаки `sna` и `first_time` сильно коррелируют!"
   ]
  },
  {
   "cell_type": "code",
   "execution_count": null,
   "metadata": {
    "execution": {
     "iopub.execute_input": "2021-10-24T15:23:53.005872Z",
     "iopub.status.busy": "2021-10-24T15:23:53.005636Z",
     "iopub.status.idle": "2021-10-24T15:23:55.454468Z",
     "shell.execute_reply": "2021-10-24T15:23:55.453632Z",
     "shell.execute_reply.started": "2021-10-24T15:23:53.005827Z"
    }
   },
   "outputs": [],
   "source": [
    "# Оценим матрицу корреляций всех признаков:\n",
    "\n",
    "corr_matrix(df_train.drop(['sample'], axis=1), det=False, pltx=20, plty=20)"
   ]
  },
  {
   "cell_type": "markdown",
   "metadata": {},
   "source": [
    "# Модель наивной логистической регрессии:"
   ]
  },
  {
   "cell_type": "markdown",
   "metadata": {},
   "source": [
    "Построим наивную модель логистической регрессии. Таким образом можно будет оценивать метрики при изменении набора данных и так далее."
   ]
  },
  {
   "cell_type": "code",
   "execution_count": null,
   "metadata": {
    "execution": {
     "iopub.execute_input": "2021-10-24T15:23:55.456843Z",
     "iopub.status.busy": "2021-10-24T15:23:55.456278Z",
     "iopub.status.idle": "2021-10-24T15:23:55.483493Z",
     "shell.execute_reply": "2021-10-24T15:23:55.482729Z",
     "shell.execute_reply.started": "2021-10-24T15:23:55.4568Z"
    }
   },
   "outputs": [],
   "source": [
    "# Разделим датасет:\n",
    "X_n = df_train.drop(['default'], axis=1)\n",
    "y_n = df_train['default']\n",
    "\n",
    "# Создадим трэйн и тест подборку:\n",
    "\n",
    "X_train_n, X_test_n, y_train_n, y_test_n = train_test_split(X_n,\n",
    "                                                    y_n,\n",
    "                                                    test_size=.2,\n",
    "                                                    random_state=RANDOM_SEED)"
   ]
  },
  {
   "cell_type": "code",
   "execution_count": null,
   "metadata": {
    "execution": {
     "iopub.execute_input": "2021-10-24T15:23:55.484764Z",
     "iopub.status.busy": "2021-10-24T15:23:55.484542Z",
     "iopub.status.idle": "2021-10-24T15:23:55.828675Z",
     "shell.execute_reply": "2021-10-24T15:23:55.827668Z",
     "shell.execute_reply.started": "2021-10-24T15:23:55.484737Z"
    }
   },
   "outputs": [],
   "source": [
    "lr = LogisticRegression()\n",
    "lr.fit(X_train_n, y_train_n)\n",
    "y_pred = lr.predict(X_test_n)\n",
    "cf_matrix = confusion_matrix(y_test_n, y_pred)"
   ]
  },
  {
   "cell_type": "code",
   "execution_count": null,
   "metadata": {
    "execution": {
     "iopub.execute_input": "2021-10-24T15:23:55.831312Z",
     "iopub.status.busy": "2021-10-24T15:23:55.830668Z",
     "iopub.status.idle": "2021-10-24T15:23:55.856889Z",
     "shell.execute_reply": "2021-10-24T15:23:55.85596Z",
     "shell.execute_reply.started": "2021-10-24T15:23:55.831264Z"
    }
   },
   "outputs": [],
   "source": [
    "# Функция для confusion matrix:\n",
    "\n",
    "def make_confusion_matrix(cf,\n",
    "                          group_names=['TN', 'FP', 'FN', 'TP'],\n",
    "                          categories='auto',\n",
    "                          sum_stats=True,\n",
    "                          count=True,\n",
    "                          cbar=True,\n",
    "                          percent=True,\n",
    "                          cmap='BuPu'):\n",
    "    '''Function is called for making a confusion matrix\n",
    "    args\n",
    "    ------\n",
    "    cf - confusion matrix\n",
    "    group_names - Names for each group\n",
    "    categories -  categories to be displayed on the x,y axis. Default is 'auto'\n",
    "    sum_stats -   shows Accuracies. Deafult is TRUE\n",
    "    c_bar -       If True, show the color bar. The cbar values are based off the values in the confusion matrix. \n",
    "                  Default is True\n",
    "    percent -     to be displayed on the x,y axis. Default is True\n",
    "    '''\n",
    "    # CODE TO GENERATE TEXT INSIDE EACH SQUARE\n",
    "    blanks = ['' for i in range(cf.size)]\n",
    "\n",
    "    group_labels = [\"{}\\n\".format(value) for value in group_names]\n",
    "\n",
    "    if count:\n",
    "        group_counts = [\"{0:0.0f}\\n\".format(value) for value in cf.flatten()]\n",
    "    else:\n",
    "        group_counts = blanks\n",
    "\n",
    "    if percent:\n",
    "        group_percentages = [\n",
    "            \"{0:.2%}\".format(value) for value in cf.flatten() / np.sum(cf)\n",
    "        ]\n",
    "    else:\n",
    "        group_percentages = blanks\n",
    "\n",
    "    box_labels = [\n",
    "        f\"{v1}{v2}{v3}\".strip()\n",
    "        for v1, v2, v3 in zip(group_labels, group_counts, group_percentages)\n",
    "    ]\n",
    "    box_labels = np.asarray(box_labels).reshape(cf.shape[0], cf.shape[1])\n",
    "\n",
    "    # Metrics\n",
    "    if sum_stats:\n",
    "        # Accuracy is sum of diagonal divided by total observations\n",
    "        accuracy = np.trace(cf) / float(np.sum(cf))\n",
    "        ball_accuracy = .5 * (cf[1, 1] / sum(cf[1, :]) +\n",
    "                              cf[0, 0] / sum(cf[0, :]))\n",
    "\n",
    "        # if it is a binary confusion matrix, show some more stats\n",
    "        if len(cf) == 2:\n",
    "            # pr = how many real true\n",
    "            precision = cf[1, 1] / sum(cf[:, 1])\n",
    "            # How many positives from all positives\n",
    "            recall = cf[1, 1] / sum(cf[1, :])\n",
    "            # F1 score\n",
    "            f1_score = 2 * precision * recall / (precision + recall)\n",
    "            stats_text = \"\\n\\nAccuracy={:0.3f}\\nBallancedAcc={:0.3f}\\nPrecision={:0.3f}\\nRecall={:0.3f}\\nF1 Score={:0.3f}\".format(\n",
    "                accuracy, ball_accuracy, precision, recall, f1_score)\n",
    "        else:\n",
    "            stats_text = \"\\n\\nAccuracy={:0.3f}\".format(accuracy)\n",
    "    else:\n",
    "        stats_text = \"\"\n",
    "\n",
    "    plt.rcParams.get('figure.figsize')\n",
    "    plt.figure(figsize=(5, 5))\n",
    "    sns.heatmap(cf,\n",
    "                annot=box_labels,\n",
    "                fmt=\"\",\n",
    "                cmap=cmap,\n",
    "                cbar=cbar,\n",
    "                xticklabels=categories,\n",
    "                yticklabels=categories)\n",
    "    plt.ylabel('True label')\n",
    "    plt.xlabel('Predicted label' + stats_text)"
   ]
  },
  {
   "cell_type": "code",
   "execution_count": null,
   "metadata": {
    "execution": {
     "iopub.execute_input": "2021-10-24T15:23:55.859064Z",
     "iopub.status.busy": "2021-10-24T15:23:55.858518Z",
     "iopub.status.idle": "2021-10-24T15:23:55.872569Z",
     "shell.execute_reply": "2021-10-24T15:23:55.871559Z",
     "shell.execute_reply.started": "2021-10-24T15:23:55.859016Z"
    }
   },
   "outputs": [],
   "source": [
    "# Функция для ROC-auc:\n",
    "\n",
    "def make_roc_auc(model, X, y):\n",
    "    '''Plot ROC-AUC and PR curves'''\n",
    "    fig, (ax1, ax2) = plt.subplots(1, 2, figsize=(13, 5))\n",
    "    plot_precision_recall_curve(model, X, y, ax=ax1)\n",
    "    plot_roc_curve(model, X, y, ax=ax2)\n",
    "    plt.show()"
   ]
  },
  {
   "cell_type": "code",
   "execution_count": null,
   "metadata": {
    "execution": {
     "iopub.execute_input": "2021-10-24T15:23:55.87522Z",
     "iopub.status.busy": "2021-10-24T15:23:55.874523Z",
     "iopub.status.idle": "2021-10-24T15:23:56.569744Z",
     "shell.execute_reply": "2021-10-24T15:23:56.568759Z",
     "shell.execute_reply.started": "2021-10-24T15:23:55.875176Z"
    }
   },
   "outputs": [],
   "source": [
    "categories = ['NO DEFAULT', 'DEFAULT']\n",
    "# Создадим confusion_matrix:\n",
    "make_confusion_matrix(cf_matrix,categories=categories,sum_stats=True)\n",
    "# Создадим roc-auc:\n",
    "make_roc_auc(lr,X_test_n,y_test_n)"
   ]
  },
  {
   "cell_type": "markdown",
   "metadata": {},
   "source": [
    "- Accuracy=0.876, что неплохо, но наша модель не сбалансирована, мы можем классифицировать только отдельный класс тех, кто вернет деньги. Но наша задача классифицировать другой противоположный класс. \n",
    "- Оценка F1 - 0.\n",
    "- Площадь под кривой (AUC) составляет 0,58. Хотя в идеальном случае значение должно стремиться к 1.\n",
    "- Площадь под кривой Precision и Reacall очень мала."
   ]
  },
  {
   "cell_type": "markdown",
   "metadata": {},
   "source": [
    "# Feature Engineering:"
   ]
  },
  {
   "cell_type": "code",
   "execution_count": null,
   "metadata": {
    "execution": {
     "iopub.execute_input": "2021-10-24T15:23:56.571257Z",
     "iopub.status.busy": "2021-10-24T15:23:56.571049Z",
     "iopub.status.idle": "2021-10-24T15:23:56.682811Z",
     "shell.execute_reply": "2021-10-24T15:23:56.681695Z",
     "shell.execute_reply.started": "2021-10-24T15:23:56.571232Z"
    }
   },
   "outputs": [],
   "source": [
    "# Закодируем наши признаки car и car_type:\n",
    "label_encoder = LabelEncoder()\n",
    "df_train['car'] = label_encoder.fit_transform(df_train['car'])\n",
    "df_train['car_type'] = label_encoder.fit_transform(df_train['car_type'])\n",
    "  \n",
    "# (Здесь во время выполнения проекта возникла небольшая путаница, поэтому пришлось сделать несколько кодировок.)\n",
    "df['car'] = label_encoder.fit_transform(df['car'])\n",
    "df['car_type'] = label_encoder.fit_transform(df['car_type'])\n",
    "    \n",
    "# Уменьшим размер. Скомбинируем признаки `car` и `car_type`. Закодируем эти признаки. reduce size.\n",
    "# 0 - Has no car, 1-Has a good car, 3- has a car\n",
    "df['car_comb'] = df['car'] + df['car_type']\n",
    "df = df.drop(['car', 'car_type'], axis=1)\n",
    "df['car_comb'] = df['car_comb'].astype('category')"
   ]
  },
  {
   "cell_type": "code",
   "execution_count": null,
   "metadata": {
    "execution": {
     "iopub.execute_input": "2021-10-24T15:23:56.685161Z",
     "iopub.status.busy": "2021-10-24T15:23:56.684211Z",
     "iopub.status.idle": "2021-10-24T15:23:56.691371Z",
     "shell.execute_reply": "2021-10-24T15:23:56.690434Z",
     "shell.execute_reply.started": "2021-10-24T15:23:56.685108Z"
    }
   },
   "outputs": [],
   "source": [
    "# Добавим четыре возврастные категории (названия используются для простого разделения, это лишь цифра в паспорте!):\n",
    "def age_to_cat(age):\n",
    "    if age <= 28:\n",
    "        cat_age = 'young'\n",
    "        return cat_age             \n",
    "    if 28 < age <= 35:\n",
    "        cat_age = 'not-young'\n",
    "        return cat_age\n",
    "    if 35 < age <= 50:\n",
    "        cat_age = 'middle'\n",
    "        return cat_age\n",
    "    if age > 50:\n",
    "        cat_age = 'old'\n",
    "        return cat_age"
   ]
  },
  {
   "cell_type": "code",
   "execution_count": null,
   "metadata": {
    "execution": {
     "iopub.execute_input": "2021-10-24T15:23:56.693317Z",
     "iopub.status.busy": "2021-10-24T15:23:56.693021Z",
     "iopub.status.idle": "2021-10-24T15:23:57.053768Z",
     "shell.execute_reply": "2021-10-24T15:23:57.053172Z",
     "shell.execute_reply.started": "2021-10-24T15:23:56.693278Z"
    }
   },
   "outputs": [],
   "source": [
    "df['age_cat'] = 0 # Создадим такой признак:\n",
    "df['age_cat'] = df['age'].apply(lambda x:age_to_cat(x))\n",
    "df = df.drop('age',axis=1)\n",
    "\n",
    "df['age_cat'].hist()"
   ]
  },
  {
   "cell_type": "markdown",
   "metadata": {},
   "source": [
    "Можем заметить, что у нас больше 'middle' клиентов."
   ]
  },
  {
   "cell_type": "code",
   "execution_count": null,
   "metadata": {
    "execution": {
     "iopub.execute_input": "2021-10-24T15:23:57.055692Z",
     "iopub.status.busy": "2021-10-24T15:23:57.054937Z",
     "iopub.status.idle": "2021-10-24T15:23:57.217806Z",
     "shell.execute_reply": "2021-10-24T15:23:57.217049Z",
     "shell.execute_reply.started": "2021-10-24T15:23:57.055642Z"
    }
   },
   "outputs": [],
   "source": [
    "# Подчистим наши признаки 'decline_app_cnt' и 'bki_request_cnt'\n",
    "\n",
    "df['decline_cat'] = df['decline_app_cnt'].apply(lambda x: 4 if x >= 4 else x) \n",
    "\n",
    "df['bki_request_cat'] = df['bki_request_cnt'].apply(lambda x: 7 if x >= 7 else x) # option 1\n",
    "df = df.drop('decline_app_cnt',axis=1)\n",
    "df = df.drop('bki_request_cnt',axis=1)"
   ]
  },
  {
   "cell_type": "code",
   "execution_count": null,
   "metadata": {
    "execution": {
     "iopub.execute_input": "2021-10-24T15:23:57.224699Z",
     "iopub.status.busy": "2021-10-24T15:23:57.223965Z",
     "iopub.status.idle": "2021-10-24T15:23:57.296647Z",
     "shell.execute_reply": "2021-10-24T15:23:57.29539Z",
     "shell.execute_reply.started": "2021-10-24T15:23:57.224647Z"
    }
   },
   "outputs": [],
   "source": [
    "from sklearn.decomposition import PCA\n",
    "from sklearn.preprocessing import StandardScaler\n",
    "\n",
    "# Возьмем две колонки:\n",
    "data_example = df[['work_address', 'home_address']].values\n",
    "\n",
    "# Создадим Scaler образец:\n",
    "scaler = StandardScaler()\n",
    "scaled_data = scaler.fit_transform(data_example)\n",
    "\n",
    "# Получили два вектора. Возьмем только самую важную информацию.\n",
    "pca = PCA(n_components=1)\n",
    "pca.fit(scaled_data)\n",
    "pca_data = pca.transform(scaled_data)\n",
    "df['pca_address'] = pca_data\n",
    "\n",
    "# Удалим ненужную колонку.\n",
    "df = df.drop(['home_address','work_address'],axis=1)"
   ]
  },
  {
   "cell_type": "code",
   "execution_count": null,
   "metadata": {
    "execution": {
     "iopub.execute_input": "2021-10-24T15:23:57.298998Z",
     "iopub.status.busy": "2021-10-24T15:23:57.29864Z",
     "iopub.status.idle": "2021-10-24T15:24:00.761868Z",
     "shell.execute_reply": "2021-10-24T15:24:00.761076Z",
     "shell.execute_reply.started": "2021-10-24T15:23:57.298955Z"
    }
   },
   "outputs": [],
   "source": [
    "# Конвертируем дату и произведем знакомые операции.\n",
    "df['app_date'] = pd.to_datetime(\n",
    "    df['app_date'])\n",
    "\n",
    "df['days_beetwen'] = df['app_date'].apply(\n",
    "    lambda x: (get_days_beetwen(x)\n",
    "               ))\n",
    "\n",
    "df['month'] = df['app_date'].apply(lambda x: (month(x)))\n",
    "df = df.drop('app_date', axis=1)"
   ]
  },
  {
   "cell_type": "code",
   "execution_count": null,
   "metadata": {
    "execution": {
     "iopub.execute_input": "2021-10-24T15:24:00.763306Z",
     "iopub.status.busy": "2021-10-24T15:24:00.763099Z",
     "iopub.status.idle": "2021-10-24T15:24:02.211273Z",
     "shell.execute_reply": "2021-10-24T15:24:02.210466Z",
     "shell.execute_reply.started": "2021-10-24T15:24:00.763281Z"
    }
   },
   "outputs": [],
   "source": [
    "# Далее в некоторых работах предлагается создать признак \"has_no_guarantor\" исходя из уровня образования.\n",
    "\n",
    "def has_no_garant(edu, grnt):\n",
    "    if edu == 'PGR' or edu == 'ACD':\n",
    "        grnt = 1\n",
    "        return grnt\n",
    "    else:\n",
    "        grnt = 0\n",
    "        return grnt\n",
    "    \n",
    "    \n",
    "df['has_no_guarantor'] = 0\n",
    "df['has_no_guarantor'] = df[['education', 'has_no_guarantor']].apply(\n",
    "    lambda x: has_no_garant(*x), axis=1)"
   ]
  },
  {
   "cell_type": "code",
   "execution_count": null,
   "metadata": {
    "execution": {
     "iopub.execute_input": "2021-10-24T15:24:02.212931Z",
     "iopub.status.busy": "2021-10-24T15:24:02.212715Z",
     "iopub.status.idle": "2021-10-24T15:24:02.220937Z",
     "shell.execute_reply": "2021-10-24T15:24:02.220161Z",
     "shell.execute_reply.started": "2021-10-24T15:24:02.212905Z"
    }
   },
   "outputs": [],
   "source": [
    "df_boost = df.copy()"
   ]
  },
  {
   "cell_type": "markdown",
   "metadata": {},
   "source": [
    "# Encoding:"
   ]
  },
  {
   "cell_type": "code",
   "execution_count": null,
   "metadata": {
    "execution": {
     "iopub.execute_input": "2021-10-24T15:24:02.222647Z",
     "iopub.status.busy": "2021-10-24T15:24:02.222382Z",
     "iopub.status.idle": "2021-10-24T15:24:02.312832Z",
     "shell.execute_reply": "2021-10-24T15:24:02.312004Z",
     "shell.execute_reply.started": "2021-10-24T15:24:02.222617Z"
    }
   },
   "outputs": [],
   "source": [
    "# label Encoder\n",
    "mapp={}\n",
    "for i in list(['sex', 'foreign_passport', 'good_work', 'has_no_guarantor']):\n",
    "    df[i] = label_encoder.fit_transform(df[i])\n",
    "    mapp[i] = dict(enumerate(label_encoder.classes_))\n",
    "    \n",
    "print(mapp)"
   ]
  },
  {
   "cell_type": "code",
   "execution_count": null,
   "metadata": {
    "execution": {
     "iopub.execute_input": "2021-10-24T15:24:02.314304Z",
     "iopub.status.busy": "2021-10-24T15:24:02.313766Z",
     "iopub.status.idle": "2021-10-24T15:24:02.32069Z",
     "shell.execute_reply": "2021-10-24T15:24:02.320078Z",
     "shell.execute_reply.started": "2021-10-24T15:24:02.314274Z"
    }
   },
   "outputs": [],
   "source": [
    "class Preprocessing:\n",
    "    def __init__(self, data):\n",
    "        self.data = data\n",
    "    #Напишем функцию по преобразованию категориальных признаков one hot encoder:\n",
    "    def hot_enc(self, column):\n",
    "        ohe = OneHotEncoder(handle_unknown='ignore', sparse=False)\n",
    "        aux_df = pd.DataFrame(ohe.fit_transform(self.data[[column]]))\n",
    "        aux_df.columns = ohe.get_feature_names([f'hot_{column}'])\n",
    "        self.data = self.data.drop(col, axis=1)\n",
    "        self.data = pd.concat([self.data, aux_df], axis=1)\n",
    "        return self.data     "
   ]
  },
  {
   "cell_type": "code",
   "execution_count": null,
   "metadata": {
    "execution": {
     "iopub.execute_input": "2021-10-24T15:24:02.322233Z",
     "iopub.status.busy": "2021-10-24T15:24:02.321811Z",
     "iopub.status.idle": "2021-10-24T15:24:02.897974Z",
     "shell.execute_reply": "2021-10-24T15:24:02.897045Z",
     "shell.execute_reply.started": "2021-10-24T15:24:02.322201Z"
    }
   },
   "outputs": [],
   "source": [
    "# Конвертируем категориальные признаки:\n",
    "# one hot encoder\n",
    "\n",
    "encoder = Preprocessing(df)\n",
    "\n",
    "cols_to_hot = ['education','region_rating',\n",
    "               'sna','first_time','car_comb',\n",
    "               'decline_cat','bki_request_cat',\n",
    "              'month','age_cat'] \n",
    "for col in cols_to_hot:\n",
    "    df = encoder.hot_enc(col)"
   ]
  },
  {
   "cell_type": "code",
   "execution_count": null,
   "metadata": {
    "execution": {
     "iopub.execute_input": "2021-10-24T15:24:02.89949Z",
     "iopub.status.busy": "2021-10-24T15:24:02.899244Z",
     "iopub.status.idle": "2021-10-24T15:24:02.953468Z",
     "shell.execute_reply": "2021-10-24T15:24:02.95262Z",
     "shell.execute_reply.started": "2021-10-24T15:24:02.899461Z"
    }
   },
   "outputs": [],
   "source": [
    "cols_to_drop = ['hot_decline_cat_3','hot_region_rating_30',\n",
    "                'hot_education_PGR','hot_decline_cat_2',\n",
    "                'hot_region_rating_20','hot_sna_3',\n",
    "                'hot_decline_cat_4','has_no_guarantor',\n",
    "                'hot_bki_request_cat_6','hot_bki_request_cat_5', \n",
    "                'hot_bki_request_cat_2','hot_region_rating_60',\n",
    "                'hot_bki_request_cat_1', 'hot_bki_request_cat_4',\n",
    "                'hot_age_cat_not-young']\n",
    "df = df.drop(cols_to_drop, axis=1)\n",
    "\n",
    "cols_to_drop_b = ['month','foreign_passport','has_no_guarantor']\n",
    "df_boost = df_boost.drop(cols_to_drop_b, axis=1)"
   ]
  },
  {
   "cell_type": "markdown",
   "metadata": {
    "execution": {
     "iopub.execute_input": "2021-10-23T15:28:01.291009Z",
     "iopub.status.busy": "2021-10-23T15:28:01.290797Z",
     "iopub.status.idle": "2021-10-23T15:28:02.33539Z",
     "shell.execute_reply": "2021-10-23T15:28:02.334614Z",
     "shell.execute_reply.started": "2021-10-23T15:28:01.290983Z"
    }
   },
   "source": [
    "df['pca_address'] = df['pca_address'] + 5\n",
    "\n",
    "cols_to_log = ['days_beetwen','pca_address','income']\n",
    "for col in cols_to_log:\n",
    "    df[col] = df[col].apply(lambda x: np.log(x) +1)\n",
    "df.sample(3)"
   ]
  },
  {
   "cell_type": "markdown",
   "metadata": {
    "execution": {
     "iopub.execute_input": "2021-10-23T14:50:59.380722Z",
     "iopub.status.busy": "2021-10-23T14:50:59.380195Z",
     "iopub.status.idle": "2021-10-23T14:50:59.414106Z",
     "shell.execute_reply": "2021-10-23T14:50:59.413164Z",
     "shell.execute_reply.started": "2021-10-23T14:50:59.380683Z"
    }
   },
   "source": [
    "# Features scale:"
   ]
  },
  {
   "cell_type": "code",
   "execution_count": null,
   "metadata": {
    "execution": {
     "iopub.execute_input": "2021-10-24T15:24:02.955003Z",
     "iopub.status.busy": "2021-10-24T15:24:02.954737Z",
     "iopub.status.idle": "2021-10-24T15:24:03.021417Z",
     "shell.execute_reply": "2021-10-24T15:24:03.020677Z",
     "shell.execute_reply.started": "2021-10-24T15:24:02.954972Z"
    }
   },
   "outputs": [],
   "source": [
    "# Возьмем часть датафрейма для тестинга:\n",
    "df = df.drop(['client_id'], axis=1)\n",
    "df_train = df_train.drop(['client_id'], axis=1)\n",
    "df_train = df.query('sample == 1').drop(['sample'], axis=1)\n",
    "\n",
    "df_valid = df.query('sample == 0').drop(['sample'], axis=1)\n",
    "\n",
    "# Возьмем дату и лэйбл.\n",
    "X = df_train.drop(['default'], axis=1)\n",
    "\n",
    "y = df_train[['default']]\n",
    "\n",
    "# Возьмем дату для валидации модели.\n",
    "X_valid = df_valid.drop(['default'], axis=1)"
   ]
  },
  {
   "cell_type": "code",
   "execution_count": null,
   "metadata": {
    "execution": {
     "iopub.execute_input": "2021-10-24T15:24:03.023122Z",
     "iopub.status.busy": "2021-10-24T15:24:03.0225Z",
     "iopub.status.idle": "2021-10-24T15:24:03.04875Z",
     "shell.execute_reply": "2021-10-24T15:24:03.047716Z",
     "shell.execute_reply.started": "2021-10-24T15:24:03.023088Z"
    }
   },
   "outputs": [],
   "source": [
    "scaler = RobustScaler()\n",
    "cols_to_scal = ['income', 'days_beetwen', 'pca_address']\n",
    "\n",
    "X[cols_to_scal] = scaler.fit_transform(X[cols_to_scal])\n",
    "X_valid[cols_to_scal] = scaler.transform(X_valid[cols_to_scal])"
   ]
  },
  {
   "cell_type": "code",
   "execution_count": null,
   "metadata": {
    "execution": {
     "iopub.execute_input": "2021-10-24T15:24:03.05048Z",
     "iopub.status.busy": "2021-10-24T15:24:03.05008Z",
     "iopub.status.idle": "2021-10-24T15:24:03.056004Z",
     "shell.execute_reply": "2021-10-24T15:24:03.055101Z",
     "shell.execute_reply.started": "2021-10-24T15:24:03.050433Z"
    }
   },
   "outputs": [],
   "source": [
    "print(\n",
    "    f'Shape of X_train:{X.shape} \\nShape of X_Valid:{X_valid.shape} \\nShape of Target:{y.shape} ')"
   ]
  },
  {
   "cell_type": "code",
   "execution_count": null,
   "metadata": {
    "execution": {
     "iopub.execute_input": "2021-10-24T15:24:03.057775Z",
     "iopub.status.busy": "2021-10-24T15:24:03.057383Z",
     "iopub.status.idle": "2021-10-24T15:24:03.111212Z",
     "shell.execute_reply": "2021-10-24T15:24:03.110305Z",
     "shell.execute_reply.started": "2021-10-24T15:24:03.057732Z"
    }
   },
   "outputs": [],
   "source": [
    "X_valid"
   ]
  },
  {
   "cell_type": "markdown",
   "metadata": {},
   "source": [
    "# Наивная лог регрессия с новыми признаками:"
   ]
  },
  {
   "cell_type": "markdown",
   "metadata": {},
   "source": [
    "`True positive` - корректно классифицированный default клиент.\n",
    "\n",
    "`False positive` - не default клиент неккоректно классифицирован как default клиент.\n",
    "\n",
    "`False Negative` - default клиент некорректно классифицирован как не default.\n",
    "\n",
    "`True negative` - корректно классифицированный не default клиент."
   ]
  },
  {
   "cell_type": "code",
   "execution_count": null,
   "metadata": {
    "execution": {
     "iopub.execute_input": "2021-10-24T15:24:03.113518Z",
     "iopub.status.busy": "2021-10-24T15:24:03.1131Z",
     "iopub.status.idle": "2021-10-24T15:24:03.142849Z",
     "shell.execute_reply": "2021-10-24T15:24:03.142169Z",
     "shell.execute_reply.started": "2021-10-24T15:24:03.113474Z"
    }
   },
   "outputs": [],
   "source": [
    "X_train, X_test, y_train, y_test = train_test_split(\n",
    "    X, y, shuffle=False, random_state=RANDOM_SEED)"
   ]
  },
  {
   "cell_type": "code",
   "execution_count": null,
   "metadata": {
    "execution": {
     "iopub.execute_input": "2021-10-24T15:24:03.144654Z",
     "iopub.status.busy": "2021-10-24T15:24:03.144124Z",
     "iopub.status.idle": "2021-10-24T15:24:04.410366Z",
     "shell.execute_reply": "2021-10-24T15:24:04.409394Z",
     "shell.execute_reply.started": "2021-10-24T15:24:03.144594Z"
    }
   },
   "outputs": [],
   "source": [
    "# Посмтроим модель:\n",
    "lr = LogisticRegression()\n",
    "lr.fit(X_train, y_train)\n",
    "\n",
    "# Сделаем предсказание:\n",
    "y_pred = lr.predict(X_test)\n",
    "\n",
    "# Создадим confusion matrix\n",
    "cf_matrix = confusion_matrix(y_test, y_pred)"
   ]
  },
  {
   "cell_type": "code",
   "execution_count": null,
   "metadata": {
    "execution": {
     "iopub.execute_input": "2021-10-24T15:24:04.412682Z",
     "iopub.status.busy": "2021-10-24T15:24:04.41187Z",
     "iopub.status.idle": "2021-10-24T15:24:05.122891Z",
     "shell.execute_reply": "2021-10-24T15:24:05.121945Z",
     "shell.execute_reply.started": "2021-10-24T15:24:04.412628Z"
    }
   },
   "outputs": [],
   "source": [
    "categories = ['NOT DEFAULT', 'DEFAULT']\n",
    "make_confusion_matrix(cf_matrix,categories=categories,sum_stats=True)\n",
    "make_roc_auc(lr,X_test,y_test)\n"
   ]
  },
  {
   "cell_type": "markdown",
   "metadata": {},
   "source": [
    "# Modeling:"
   ]
  },
  {
   "cell_type": "code",
   "execution_count": null,
   "metadata": {
    "execution": {
     "iopub.execute_input": "2021-10-24T15:24:05.124304Z",
     "iopub.status.busy": "2021-10-24T15:24:05.124075Z",
     "iopub.status.idle": "2021-10-24T15:24:05.131926Z",
     "shell.execute_reply": "2021-10-24T15:24:05.13117Z",
     "shell.execute_reply.started": "2021-10-24T15:24:05.124276Z"
    }
   },
   "outputs": [],
   "source": [
    "def show_metrics(y_test, y_pred, probs):\n",
    "    print('accuracy_score:\\t\\t {:.4}'.format(accuracy_score(y_test, y_pred)))\n",
    "    print('precision_score:\\t {:.4}'.format(precision_score(y_test, y_pred, zero_division=0)))\n",
    "    print('recall_score:\\t\\t {:.4}'.format(recall_score(y_test, y_pred, zero_division=0)))\n",
    "    print('f1_score:\\t\\t {:.4}'.format(f1_score(y_test, y_pred, zero_division=0)))\n",
    "    print('roc_auc_score:\\t\\t {:.4}'.format(roc_auc_score(y_test, probs)))\n",
    "def compute_selected_model(model):\n",
    "    model.fit(X_train, y_train)\n",
    "    y_pred = model.predict(X_test)\n",
    "    probs = model.predict_proba(X_test)\n",
    "    probs = probs[:,1]\n",
    "    show_metrics(y_test, y_pred, probs)\n",
    "    return y_pred, probs"
   ]
  },
  {
   "cell_type": "code",
   "execution_count": null,
   "metadata": {
    "execution": {
     "iopub.execute_input": "2021-10-24T15:24:05.133337Z",
     "iopub.status.busy": "2021-10-24T15:24:05.132969Z",
     "iopub.status.idle": "2021-10-24T15:24:06.448134Z",
     "shell.execute_reply": "2021-10-24T15:24:06.447198Z",
     "shell.execute_reply.started": "2021-10-24T15:24:05.1333Z"
    }
   },
   "outputs": [],
   "source": [
    "# default model\n",
    "\n",
    "lr = LogisticRegression(max_iter=500)\n",
    "y_pred, probs = compute_selected_model(lr)"
   ]
  },
  {
   "cell_type": "code",
   "execution_count": null,
   "metadata": {
    "execution": {
     "iopub.execute_input": "2021-10-24T15:24:06.450814Z",
     "iopub.status.busy": "2021-10-24T15:24:06.450089Z",
     "iopub.status.idle": "2021-10-24T15:24:07.61154Z",
     "shell.execute_reply": "2021-10-24T15:24:07.610633Z",
     "shell.execute_reply.started": "2021-10-24T15:24:06.450763Z"
    }
   },
   "outputs": [],
   "source": [
    "# penalty=none is stronger than penalty=l2\n",
    "\n",
    "lr_penalty_none = LogisticRegression(penalty='none', max_iter=1000)\n",
    "y_pred, probs = compute_selected_model(lr_penalty_none)"
   ]
  },
  {
   "cell_type": "code",
   "execution_count": null,
   "metadata": {
    "execution": {
     "iopub.execute_input": "2021-10-24T15:24:07.614227Z",
     "iopub.status.busy": "2021-10-24T15:24:07.613535Z",
     "iopub.status.idle": "2021-10-24T15:24:08.935715Z",
     "shell.execute_reply": "2021-10-24T15:24:08.934669Z",
     "shell.execute_reply.started": "2021-10-24T15:24:07.614174Z"
    }
   },
   "outputs": [],
   "source": [
    "# multi_class=multinominal is weaker than auto or ovr (them equal)\n",
    "\n",
    "lr_ovr = LogisticRegression(penalty='l2', max_iter=1000, multi_class='ovr')\n",
    "y_pred, probs = compute_selected_model(lr_ovr)"
   ]
  },
  {
   "cell_type": "code",
   "execution_count": null,
   "metadata": {
    "execution": {
     "iopub.execute_input": "2021-10-24T15:24:08.938564Z",
     "iopub.status.busy": "2021-10-24T15:24:08.937854Z",
     "iopub.status.idle": "2021-10-24T15:24:13.922904Z",
     "shell.execute_reply": "2021-10-24T15:24:13.921981Z",
     "shell.execute_reply.started": "2021-10-24T15:24:08.938513Z"
    }
   },
   "outputs": [],
   "source": [
    "# higher max_iter - higher metrics (costs time)\n",
    "\n",
    "lr_sag = LogisticRegression(penalty='l2', max_iter=1500, solver='sag')\n",
    "y_pred, probs = compute_selected_model(lr_sag)"
   ]
  },
  {
   "cell_type": "code",
   "execution_count": null,
   "metadata": {
    "execution": {
     "iopub.execute_input": "2021-10-24T15:24:13.925514Z",
     "iopub.status.busy": "2021-10-24T15:24:13.924845Z",
     "iopub.status.idle": "2021-10-24T15:24:23.077842Z",
     "shell.execute_reply": "2021-10-24T15:24:23.076855Z",
     "shell.execute_reply.started": "2021-10-24T15:24:13.925464Z"
    }
   },
   "outputs": [],
   "source": [
    "# saga is weaker than sag with equal max_iter\n",
    "# both sag and saga weaker than default solver\n",
    "\n",
    "lr_saga = LogisticRegression(penalty='l2', max_iter=1500, solver='saga')\n",
    "y_pred, probs = compute_selected_model(lr_saga)"
   ]
  },
  {
   "cell_type": "code",
   "execution_count": null,
   "metadata": {
    "execution": {
     "iopub.execute_input": "2021-10-24T15:24:23.080516Z",
     "iopub.status.busy": "2021-10-24T15:24:23.079839Z",
     "iopub.status.idle": "2021-10-24T15:24:25.323554Z",
     "shell.execute_reply": "2021-10-24T15:24:25.322644Z",
     "shell.execute_reply.started": "2021-10-24T15:24:23.080465Z"
    }
   },
   "outputs": [],
   "source": [
    "# balanced is weaker than default settings in roc_auc\n",
    "# but f1_score is significant stronger\n",
    "\n",
    "lr_balanced = LogisticRegression(class_weight='balanced', max_iter=500)\n",
    "y_pred, probs = compute_selected_model(lr_balanced)"
   ]
  },
  {
   "cell_type": "markdown",
   "metadata": {},
   "source": [
    "- Настройка сбалансированного веса классов ухудшает метрику ROC AUC по сравнению с настройками по умолчанию (f1_score, при этом, улучшается существенно).\n",
    "- Solvers sag, saga - слабее, чем solver по умолчанию (lbfgs).\n",
    "- На заданном наборе данных penalty=none эффективнее penalty=l2.\n",
    "- Мультикласс-настройка multinominal формирует более слабую модель. Ovr формирует идентичную модель с настройкой по умолчанию - auto."
   ]
  },
  {
   "cell_type": "markdown",
   "metadata": {},
   "source": [
    "# Оценка ROC AUC и других метрик:"
   ]
  },
  {
   "cell_type": "code",
   "execution_count": null,
   "metadata": {
    "execution": {
     "iopub.execute_input": "2021-10-24T15:24:25.32644Z",
     "iopub.status.busy": "2021-10-24T15:24:25.325719Z",
     "iopub.status.idle": "2021-10-24T15:24:26.648066Z",
     "shell.execute_reply": "2021-10-24T15:24:26.647088Z",
     "shell.execute_reply.started": "2021-10-24T15:24:25.326387Z"
    }
   },
   "outputs": [],
   "source": [
    "# best LogReg model from previous chapter with balanced class weights\n",
    "\n",
    "lr_balanced_penalty_none = LogisticRegression(class_weight='balanced', penalty='none', max_iter=1000)\n",
    "y_pred, probs = compute_selected_model(lr_balanced_penalty_none)"
   ]
  },
  {
   "cell_type": "code",
   "execution_count": null,
   "metadata": {
    "execution": {
     "iopub.execute_input": "2021-10-24T15:24:26.650786Z",
     "iopub.status.busy": "2021-10-24T15:24:26.650086Z",
     "iopub.status.idle": "2021-10-24T15:24:26.902949Z",
     "shell.execute_reply": "2021-10-24T15:24:26.90241Z",
     "shell.execute_reply.started": "2021-10-24T15:24:26.650734Z"
    }
   },
   "outputs": [],
   "source": [
    "fpr, tpr, threshold = roc_curve(y_test, probs)\n",
    "roc_auc = roc_auc_score(y_test, probs)\n",
    "\n",
    "plt.figure()\n",
    "plt.plot([0, 1], label='Baseline', linestyle='--')\n",
    "plt.plot(fpr, tpr, label = 'Regression')\n",
    "plt.title('Logistic Regression ROC AUC = %0.3f' % roc_auc)\n",
    "plt.ylabel('True Positive Rate')\n",
    "plt.xlabel('False Positive Rate')\n",
    "plt.legend(loc = 'lower right')\n",
    "plt.show()"
   ]
  },
  {
   "cell_type": "markdown",
   "metadata": {},
   "source": [
    "- Настройка сбалансированного веса классов ухудшает метрику ROC AUC по сравнению с настройками по умолчанию (f1_score, при этом, улучшается существенно).\n",
    "- Solvers sag, saga - слабее, чем solver по умолчанию (lbfgs).\n",
    "- На заданном наборе данных penalty=none эффективнее penalty=l2.\n",
    "- Мультикласс-настройка multinominal формирует более слабую модель. Ovr формирует идентичную модель с настройкой по умолчанию - auto."
   ]
  },
  {
   "cell_type": "markdown",
   "metadata": {},
   "source": [
    "# Подбор гиперпараметров:"
   ]
  },
  {
   "cell_type": "code",
   "execution_count": null,
   "metadata": {
    "execution": {
     "iopub.execute_input": "2021-10-24T15:24:26.904533Z",
     "iopub.status.busy": "2021-10-24T15:24:26.904136Z",
     "iopub.status.idle": "2021-10-24T15:24:26.946446Z",
     "shell.execute_reply": "2021-10-24T15:24:26.945678Z",
     "shell.execute_reply.started": "2021-10-24T15:24:26.904503Z"
    }
   },
   "outputs": [],
   "source": [
    "train_data = df.query('sample == 1').drop(['sample'], axis=1)\n",
    "test_data = df.query('sample == 0').drop(['sample'], axis=1)\n",
    "\n",
    "X_train = train_data.drop(['default'], axis=1)\n",
    "y_train = train_data.default.values\n",
    "X_test = test_data.drop(['default'], axis=1)\n",
    "y_test = test_data.default.values"
   ]
  },
  {
   "cell_type": "code",
   "execution_count": null,
   "metadata": {
    "execution": {
     "iopub.execute_input": "2021-10-24T15:24:26.948249Z",
     "iopub.status.busy": "2021-10-24T15:24:26.947773Z"
    }
   },
   "outputs": [],
   "source": [
    "# Penalty - Used to specify the norm used in the penalization\n",
    "\n",
    "# C - Inverse of regularization strength; \n",
    "# must be a positive float.\n",
    "# Like in support vector machines, smaller values specify stronger regularization.\n",
    "\n",
    "# solver - Algorithm to use in the optimization problem.\n",
    "# UserWarning: 'n_jobs' > 1 does not have any effect when 'solver' is set to 'liblinear'\n",
    "\n",
    "params = {\n",
    "    'C' : np.logspace(-4, 4, 20),\n",
    "    'solver' : ['lbfgs', 'liblinear', 'sag', 'saga']\n",
    "}\n",
    "\n",
    "model = LogisticRegression(penalty='l2', max_iter=1000, class_weight='balanced', n_jobs=4)\n",
    "model.fit(X_train, y_train)\n",
    "\n",
    "clf = GridSearchCV(model, params, cv=5, verbose=3)\n",
    "\n",
    "best_model = clf.fit(X_train, y_train)\n",
    "\n",
    "print('Лучшее C:', best_model.best_estimator_.get_params()['C'])\n",
    "print('Лучшее solver:', best_model.best_estimator_.get_params()['solver'])"
   ]
  },
  {
   "cell_type": "code",
   "execution_count": null,
   "metadata": {},
   "outputs": [],
   "source": [
    "y_pred = best_model.predict_proba(X_test)\n",
    "results_df = pd.DataFrame(data={'client_id':df_test['client_id'], 'default':y_pred[:,1]})\n",
    "results_df.to_csv('submission.csv', index=False)\n",
    "results_df"
   ]
  },
  {
   "cell_type": "markdown",
   "metadata": {},
   "source": [
    "**В итоговый вариант работы вошел вариант с подбором гиперпараметров для logisticRegression со сбалансированными признаками - несмотря на чуть более низкий ROC AUC, такая модель демонстрирует более качественные результаты по прочим метрикам - accuracy, precision, recall и, особенно, f1_score.**"
   ]
  },
  {
   "cell_type": "code",
   "execution_count": null,
   "metadata": {},
   "outputs": [],
   "source": []
  },
  {
   "cell_type": "code",
   "execution_count": null,
   "metadata": {},
   "outputs": [],
   "source": []
  },
  {
   "cell_type": "code",
   "execution_count": null,
   "metadata": {},
   "outputs": [],
   "source": []
  },
  {
   "cell_type": "code",
   "execution_count": null,
   "metadata": {},
   "outputs": [],
   "source": []
  }
 ],
 "metadata": {
  "kernelspec": {
   "display_name": "Python 3 (ipykernel)",
   "language": "python",
   "name": "python3"
  },
  "language_info": {
   "codemirror_mode": {
    "name": "ipython",
    "version": 3
   },
   "file_extension": ".py",
   "mimetype": "text/x-python",
   "name": "python",
   "nbconvert_exporter": "python",
   "pygments_lexer": "ipython3",
   "version": "3.9.12"
  }
 },
 "nbformat": 4,
 "nbformat_minor": 4
}
